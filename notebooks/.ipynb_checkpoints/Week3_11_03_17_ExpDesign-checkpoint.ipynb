{
 "cells": [
  {
   "cell_type": "markdown",
   "metadata": {},
   "source": [
    "Here, we are going to learn how to go about creating a conditions file with proper randomization. As we saw yesterday, if we put blind faith in randomization, we can end up with incorrect conditions in the trial file. Experiment design is an interesting trade off between control and randomness. That's why when you read a paper in psychology or neuroscience, you will find that the methods section specifies that the trial order has been \"psuedo randomized\". \n",
    "\n",
    "This could be an entire stand alone class, but in our toy experiment we will learn how to generate and excel file of conditions using python!"
   ]
  },
  {
   "cell_type": "code",
   "execution_count": 94,
   "metadata": {
    "collapsed": true
   },
   "outputs": [],
   "source": [
    "import numpy as np\n",
    "import pandas as pd\n",
    "from random import shuffle"
   ]
  },
  {
   "cell_type": "markdown",
   "metadata": {},
   "source": [
    "Here, we are coding the one back task. The subject has to press a button on each trial, left arrow if the image is not repeated, and right arrow if it is. "
   ]
  },
  {
   "cell_type": "code",
   "execution_count": 104,
   "metadata": {
    "collapsed": false
   },
   "outputs": [],
   "source": [
    "image_names = ['im1.jpg','im2.jpg','img3.jpg','img4.jpg','img5.jpg']\n",
    "\n",
    "# we also want a repeat condition every few trials!\n",
    "image_names.append('repeat')\n",
    "\n",
    "conditions = []\n",
    "\n",
    "numReps = 5\n",
    "\n",
    "for i in range(numReps):\n",
    "    shuffle(image_names)\n",
    "    conditions.append([x for x in image_names])\n",
    "    \n",
    "alltrials = [item for sublist in conditions for item in sublist]"
   ]
  },
  {
   "cell_type": "markdown",
   "metadata": {},
   "source": [
    "Our basic structure is ready, however, we want to tweak the list a little bit before saving it into a file. There are a couple of things we should check, any idea what those could be?"
   ]
  },
  {
   "cell_type": "code",
   "execution_count": 105,
   "metadata": {
    "collapsed": true
   },
   "outputs": [],
   "source": [
    "def repIndex(trials):\n",
    "    repIdx = [x for x,val in enumerate(trials) if val == 'repeat']\n",
    "    return repIdx"
   ]
  },
  {
   "cell_type": "code",
   "execution_count": 106,
   "metadata": {
    "collapsed": true
   },
   "outputs": [],
   "source": [
    "def corrAnsFlag(trials):\n",
    "    \n",
    "    repIdx = repIndex(trials)\n",
    "    corrAns = ['left'] * len(trials)\n",
    "    \n",
    "    for val in repIdx:\n",
    "        corrAns[val] = 'right'\n",
    "        \n",
    "    return corrAns"
   ]
  },
  {
   "cell_type": "code",
   "execution_count": 107,
   "metadata": {
    "collapsed": false
   },
   "outputs": [
    {
     "name": "stdout",
     "output_type": "stream",
     "text": [
      "[4, 6, 12, 19, 25]\n"
     ]
    }
   ],
   "source": [
    "corrAns = corrAnsFlag(alltrials)"
   ]
  },
  {
   "cell_type": "code",
   "execution_count": 115,
   "metadata": {
    "collapsed": false
   },
   "outputs": [],
   "source": [
    "def repeatFlag(trials):\n",
    "    \n",
    "    repIdx = repIndex(trials)\n",
    "    \n",
    "    repeat = [0] * len(trials)\n",
    "    \n",
    "    for val in repIdx:\n",
    "        repeat[val] = 1\n",
    "        \n",
    "    return repeat"
   ]
  },
  {
   "cell_type": "code",
   "execution_count": 116,
   "metadata": {
    "collapsed": true
   },
   "outputs": [],
   "source": [
    "repeatId = repeatFlag(alltrials)"
   ]
  },
  {
   "cell_type": "code",
   "execution_count": 118,
   "metadata": {
    "collapsed": false
   },
   "outputs": [],
   "source": [
    "def repeatRep(trials):\n",
    "    \n",
    "    repIdx = repIndex(trials)\n",
    "   \n",
    "    # replace \"repeat\" with the image before\n",
    "    \n",
    "    for rep in repIdx:\n",
    "        trials[rep] = trials[rep-1]\n",
    "        \n",
    "    return trials"
   ]
  },
  {
   "cell_type": "code",
   "execution_count": 119,
   "metadata": {
    "collapsed": true
   },
   "outputs": [],
   "source": [
    "finaltrials = repeatRep(alltrials)"
   ]
  },
  {
   "cell_type": "code",
   "execution_count": 124,
   "metadata": {
    "collapsed": true
   },
   "outputs": [],
   "source": [
    "df = pd.DataFrame({'trialval': finaltrials, 'corrAns': corrAns, 'repeat': repeatId}) "
   ]
  },
  {
   "cell_type": "code",
   "execution_count": 125,
   "metadata": {
    "collapsed": true
   },
   "outputs": [],
   "source": [
    "save_fn = 'image_conditions.csv'"
   ]
  },
  {
   "cell_type": "code",
   "execution_count": 126,
   "metadata": {
    "collapsed": true
   },
   "outputs": [],
   "source": [
    "df.to_csv(save_fn,index=False)"
   ]
  },
  {
   "cell_type": "code",
   "execution_count": null,
   "metadata": {
    "collapsed": true
   },
   "outputs": [],
   "source": []
  },
  {
   "cell_type": "code",
   "execution_count": null,
   "metadata": {
    "collapsed": true
   },
   "outputs": [],
   "source": []
  },
  {
   "cell_type": "code",
   "execution_count": null,
   "metadata": {
    "collapsed": true
   },
   "outputs": [],
   "source": []
  },
  {
   "cell_type": "code",
   "execution_count": null,
   "metadata": {
    "collapsed": true
   },
   "outputs": [],
   "source": []
  },
  {
   "cell_type": "code",
   "execution_count": null,
   "metadata": {
    "collapsed": true
   },
   "outputs": [],
   "source": []
  },
  {
   "cell_type": "code",
   "execution_count": null,
   "metadata": {
    "collapsed": true
   },
   "outputs": [],
   "source": []
  },
  {
   "cell_type": "code",
   "execution_count": null,
   "metadata": {
    "collapsed": false
   },
   "outputs": [],
   "source": [
    "def checkRep(trials):\n",
    "    \n",
    "    repIdx = repIndex(trials)\n",
    "    \n",
    "    for item in range(1, len(repIdx)-1): \n",
    "        value = repIdx[item]\n",
    "        nextvalue = repIdx[item+1]\n",
    "    \n",
    "        if value+1 == nextvalue:\n",
    "            temp = trials[value-1]\n",
    "            trials[value-1] = trials[value]\n",
    "            trials[value] = temp\n",
    "\n",
    "    return trials"
   ]
  }
 ],
 "metadata": {
  "kernelspec": {
   "display_name": "Python 2",
   "language": "python",
   "name": "python2"
  },
  "language_info": {
   "codemirror_mode": {
    "name": "ipython",
    "version": 2
   },
   "file_extension": ".py",
   "mimetype": "text/x-python",
   "name": "python",
   "nbconvert_exporter": "python",
   "pygments_lexer": "ipython2",
   "version": "2.7.13"
  }
 },
 "nbformat": 4,
 "nbformat_minor": 2
}
