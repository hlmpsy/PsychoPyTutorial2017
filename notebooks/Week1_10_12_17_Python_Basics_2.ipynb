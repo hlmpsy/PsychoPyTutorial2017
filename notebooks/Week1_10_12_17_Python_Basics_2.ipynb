{
 "cells": [
  {
   "cell_type": "markdown",
   "metadata": {},
   "source": [
    "# Python Basics"
   ]
  },
  {
   "cell_type": "markdown",
   "metadata": {},
   "source": [
    "## Conditionals\n",
    "\n",
    "These allow us to create workflows, so that the program knows when to do what. Two componenets \n",
    "within conditionals are:\n",
    "    - Boolean Operators \n",
    "    - Conditional statements (if, if...else, if...elif)"
   ]
  },
  {
   "cell_type": "code",
   "execution_count": 2,
   "metadata": {
    "collapsed": false
   },
   "outputs": [
    {
     "data": {
      "text/plain": [
       "False"
      ]
     },
     "execution_count": 2,
     "metadata": {},
     "output_type": "execute_result"
    }
   ],
   "source": [
    "\"PYTHON\".lower() == \"python\""
   ]
  },
  {
   "cell_type": "markdown",
   "metadata": {},
   "source": [
    "**Revisiting Relational Operators**\n",
    "\n",
    "- x != y\n",
    "- x > y\n",
    "- x < y\n",
    "- x >= y\n",
    "- x <= y\n",
    "\n",
    "**Note**\n",
    "\n",
    "A common error is to use a single equal sign(=) instead of a double equal sign(==)\n",
    "\n",
    "**Remember that = is an assignment operator and == is a relational operator**"
   ]
  },
  {
   "cell_type": "markdown",
   "metadata": {},
   "source": [
    "### Logical Operators\n",
    "\n",
    "There are three logical operators: **and**, **or** and **not**"
   ]
  },
  {
   "cell_type": "markdown",
   "metadata": {},
   "source": [
    "### Conditional Execution (if...)\n",
    "\n",
    "Wife: Go to the store and buy a carton of milk and if they have eggs, get six.\n",
    "\n",
    "Husband goes back home with six cartons of milk\n",
    "\n",
    "Wife: Why six cartons of milk???\n",
    "\n",
    "Husband: They had eggs!\n",
    "\n",
    "Go to the store **and** buy a carton of milk **and if** they have eggs, get six."
   ]
  },
  {
   "cell_type": "code",
   "execution_count": null,
   "metadata": {
    "collapsed": true
   },
   "outputs": [],
   "source": [
    "if condition:\n",
    "    do_something"
   ]
  },
  {
   "cell_type": "code",
   "execution_count": 8,
   "metadata": {
    "collapsed": false
   },
   "outputs": [
    {
     "name": "stdout",
     "output_type": "stream",
     "text": [
      "n exists\n"
     ]
    }
   ],
   "source": [
    "n = 1\n",
    "\n",
    "if n:\n",
    "    print(\"n exists\")\n",
    "\n",
    "if n is None:\n",
    "    print(\"n is None\")\n",
    "    \n",
    "if n is not None:\n",
    "    print(\"n is not None\")"
   ]
  },
  {
   "cell_type": "code",
   "execution_count": 11,
   "metadata": {
    "collapsed": false
   },
   "outputs": [],
   "source": [
    "s = \"\"\n",
    "\n",
    "if isinstance(s, str) and not s:\n",
    "    print(\"s is an empty string\")"
   ]
  },
  {
   "cell_type": "markdown",
   "metadata": {},
   "source": [
    "### Alternative execution\n",
    "\n",
    "When you don't just want to check a condition, but also chose between alternatives!"
   ]
  },
  {
   "cell_type": "code",
   "execution_count": null,
   "metadata": {
    "collapsed": true
   },
   "outputs": [],
   "source": [
    "if condition: \n",
    "    do_something\n",
    "else:\n",
    "    do_alternative"
   ]
  },
  {
   "cell_type": "markdown",
   "metadata": {},
   "source": [
    "Can be used for checking user input"
   ]
  },
  {
   "cell_type": "code",
   "execution_count": 13,
   "metadata": {
    "collapsed": false
   },
   "outputs": [
    {
     "name": "stdout",
     "output_type": "stream",
     "text": [
      "x? hello\n",
      "Please input a number next time\n"
     ]
    }
   ],
   "source": [
    "x = raw_input(\"x? \")\n",
    "if x.isdigit():\n",
    "    print(\"Your input is a number\")\n",
    "else:\n",
    "    print(\"Please input a number next time\")"
   ]
  },
  {
   "cell_type": "markdown",
   "metadata": {},
   "source": [
    "### ...And keep doing this: Chained Conditionals\n",
    "\n",
    "Once any condition is met, that code is run."
   ]
  },
  {
   "cell_type": "code",
   "execution_count": null,
   "metadata": {
    "collapsed": true
   },
   "outputs": [],
   "source": [
    "if conditionA:\n",
    "    do_something\n",
    "elif conditionB:\n",
    "    do_alternative\n",
    "else:\n",
    "    do_otherwise # often kept as default"
   ]
  },
  {
   "cell_type": "code",
   "execution_count": 15,
   "metadata": {
    "collapsed": false
   },
   "outputs": [
    {
     "name": "stdout",
     "output_type": "stream",
     "text": [
      "x? 5\n",
      "y? 78\n",
      "x is less than y\n"
     ]
    }
   ],
   "source": [
    "x = int(raw_input(\"x? \"))\n",
    "y = int(raw_input(\"y? \"))\n",
    "if x < y:\n",
    "    print('x is less than y')\n",
    "elif x > y:\n",
    "    print('x is greater than y')\n",
    "else:\n",
    "    print('x and y are equal')"
   ]
  },
  {
   "cell_type": "code",
   "execution_count": null,
   "metadata": {
    "collapsed": true
   },
   "outputs": [],
   "source": [
    "x = -2\n",
    "y = 0 if x < 0 else x\n",
    "print(y)"
   ]
  },
  {
   "cell_type": "markdown",
   "metadata": {},
   "source": [
    "## Loops"
   ]
  },
  {
   "cell_type": "markdown",
   "metadata": {},
   "source": [
    "The main task of a loop is to do something repeatedly, or iteratively\n",
    "\n",
    "Iteration is amazingly well implemented in python!"
   ]
  },
  {
   "cell_type": "markdown",
   "metadata": {},
   "source": [
    "### For loop: the one loop to rule them all\n",
    "\n"
   ]
  },
  {
   "cell_type": "markdown",
   "metadata": {
    "collapsed": true
   },
   "source": [
    "for target in sequence:\n",
    "    do_statements\n",
    "    \n",
    "for iteration,value in enumerate(sequence):\n",
    "    print('Number %d item in the sequence is %s: ') %(iteration,value) "
   ]
  },
  {
   "cell_type": "markdown",
   "metadata": {},
   "source": [
    "An example of a simple for loop in action"
   ]
  },
  {
   "cell_type": "code",
   "execution_count": 1,
   "metadata": {
    "collapsed": false
   },
   "outputs": [
    {
     "name": "stdout",
     "output_type": "stream",
     "text": [
      "start? 3\n",
      "end? 10\n"
     ]
    }
   ],
   "source": [
    "# Get input\n",
    "start = int(raw_input(\"start? \"))\n",
    "end = int(raw_input(\"end? \"))"
   ]
  },
  {
   "cell_type": "code",
   "execution_count": 2,
   "metadata": {
    "collapsed": false
   },
   "outputs": [
    {
     "name": "stdout",
     "output_type": "stream",
     "text": [
      "3 3\n",
      "4 7\n",
      "5 12\n",
      "6 18\n",
      "7 25\n",
      "8 33\n",
      "9 42\n",
      "Exited with x==9\n"
     ]
    }
   ],
   "source": [
    "# Calculate cumulative sum\n",
    "csum = 0\n",
    "for x in range(start, end):\n",
    "    csum += x\n",
    "    print x, csum\n",
    "print(\"Exited with x==%d\" % x)"
   ]
  },
  {
   "cell_type": "markdown",
   "metadata": {},
   "source": [
    "### While loops: Still sexy for response times"
   ]
  },
  {
   "cell_type": "code",
   "execution_count": null,
   "metadata": {
    "collapsed": true
   },
   "outputs": [],
   "source": [
    "while condition:\n",
    "    do_statements"
   ]
  },
  {
   "cell_type": "code",
   "execution_count": null,
   "metadata": {
    "collapsed": false
   },
   "outputs": [],
   "source": [
    "x = start\n",
    "csum = 0\n",
    "while x < end:\n",
    "    csum += x\n",
    "    print x, csum\n",
    "    x += 1\n",
    "print(\"Exited with x==%d\" % x)"
   ]
  },
  {
   "cell_type": "markdown",
   "metadata": {},
   "source": [
    "Why did the for loop end with x==9 and while with x==10?"
   ]
  },
  {
   "cell_type": "markdown",
   "metadata": {},
   "source": [
    "### Break statement"
   ]
  },
  {
   "cell_type": "markdown",
   "metadata": {},
   "source": [
    "\"break\" instructs the code to exit the loop\n",
    "\n",
    "Here we are finally bringing conditionals and loops together!"
   ]
  },
  {
   "cell_type": "code",
   "execution_count": null,
   "metadata": {
    "collapsed": false
   },
   "outputs": [],
   "source": [
    "x = start\n",
    "csum = 0\n",
    "while True:\n",
    "    csum += x\n",
    "    x += 1\n",
    "    print x, csum\n",
    "    if x >= end:\n",
    "        break\n",
    "print(\"Exited with x==%d\" % x)"
   ]
  },
  {
   "cell_type": "markdown",
   "metadata": {},
   "source": [
    "### Continue statement"
   ]
  },
  {
   "cell_type": "markdown",
   "metadata": {},
   "source": [
    "\"continue\" instructs the code to go to the next loop iteration "
   ]
  },
  {
   "cell_type": "code",
   "execution_count": null,
   "metadata": {
    "collapsed": false
   },
   "outputs": [],
   "source": [
    "x = start\n",
    "csum = 0\n",
    "while x < end:\n",
    "    csum += x\n",
    "    x += 1\n",
    "    if x % 2:\n",
    "        continue # skip printing odd numbers\n",
    "    print x, csum\n",
    "    \n",
    "print(\"Exited with x==%d\" % x)"
   ]
  },
  {
   "cell_type": "code",
   "execution_count": 21,
   "metadata": {
    "collapsed": false
   },
   "outputs": [],
   "source": [
    "import numpy as np\n",
    "\n",
    "colorlist = np.array([(\"red\",\"red\"),(\"red\",\"blue\"),(\"red\",\"green\"),\n",
    "                    (\"blue\",\"red\"),(\"blue\",\"blue\"),(\"blue\",\"green\"),\n",
    "                     (\"green\",\"red\"),(\"green\",\"blue\"),(\"green\",\"green\")])"
   ]
  },
  {
   "cell_type": "code",
   "execution_count": 27,
   "metadata": {
    "collapsed": false
   },
   "outputs": [],
   "source": [
    "np.random.shuffle(colorlist)"
   ]
  },
  {
   "cell_type": "code",
   "execution_count": 28,
   "metadata": {
    "collapsed": false
   },
   "outputs": [
    {
     "data": {
      "text/plain": [
       "array([['blue', 'green'],\n",
       "       ['red', 'green'],\n",
       "       ['blue', 'blue'],\n",
       "       ['green', 'red'],\n",
       "       ['green', 'blue'],\n",
       "       ['green', 'green'],\n",
       "       ['red', 'red'],\n",
       "       ['blue', 'red'],\n",
       "       ['red', 'blue']],\n",
       "      dtype='|S5')"
      ]
     },
     "execution_count": 28,
     "metadata": {},
     "output_type": "execute_result"
    }
   ],
   "source": [
    "colorlist"
   ]
  }
 ],
 "metadata": {
  "kernelspec": {
   "display_name": "Python 2",
   "language": "python",
   "name": "python2"
  },
  "language_info": {
   "codemirror_mode": {
    "name": "ipython",
    "version": 2
   },
   "file_extension": ".py",
   "mimetype": "text/x-python",
   "name": "python",
   "nbconvert_exporter": "python",
   "pygments_lexer": "ipython2",
   "version": "2.7.13"
  }
 },
 "nbformat": 4,
 "nbformat_minor": 2
}
